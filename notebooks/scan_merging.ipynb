{
 "cells": [
  {
   "cell_type": "markdown",
   "metadata": {},
   "source": [
    "# Test Scan merging"
   ]
  },
  {
   "cell_type": "code",
   "execution_count": null,
   "metadata": {},
   "outputs": [],
   "source": [
    "%matplotlib widget\n",
    "import numpy as np\n",
    "import os\n",
    "import time\n",
    "import plotly.graph_objects as go\n",
    "from copy import deepcopy\n",
    "\n",
    "import planeslam.io as io\n",
    "from planeslam.scan import pc_to_scan\n",
    "from planeslam.general import NED_to_ENU, pc_plot_trace, trajectory_plot_trace\n",
    "from planeslam.geometry.util import quat_to_R\n",
    "\n",
    "%load_ext autoreload\n",
    "%autoreload 2\n",
    "%load_ext line_profiler"
   ]
  },
  {
   "cell_type": "markdown",
   "metadata": {},
   "source": [
    "Read in airsim LiDAR and pose data"
   ]
  },
  {
   "cell_type": "code",
   "execution_count": null,
   "metadata": {},
   "outputs": [],
   "source": [
    "# Read in point cloud data\n",
    "binpath = os.path.join(os.getcwd(), '..', 'data', 'airsim', 'blocks_sub_2_1200_samples_5hz_noyaw', 'lidar', 'Drone0')\n",
    "PC_data = io.read_lidar_bin(binpath)\n",
    "\n",
    "# Read in ground-truth poses (in drone local frame)\n",
    "posepath = os.path.join(os.getcwd(), '..', 'data', 'airsim', 'blocks_sub_2_1200_samples_5hz_noyaw', 'poses', 'Drone0')\n",
    "drone_positions, drone_orientations = io.read_poses(posepath)"
   ]
  },
  {
   "cell_type": "code",
   "execution_count": null,
   "metadata": {},
   "outputs": [],
   "source": [
    "# Subsample data\n",
    "sub_factor = 5\n",
    "PC_data = PC_data[::sub_factor]\n",
    "drone_positions = drone_positions[::sub_factor]\n",
    "drone_orientations = drone_orientations[::sub_factor]"
   ]
  },
  {
   "cell_type": "code",
   "execution_count": null,
   "metadata": {},
   "outputs": [],
   "source": [
    "# Convert to ENU\n",
    "num_scans = len(PC_data)\n",
    "\n",
    "for i in range(num_scans):\n",
    "    PC_data[i] = NED_to_ENU(PC_data[i])\n",
    "\n",
    "drone_positions = NED_to_ENU(drone_positions)\n",
    "drone_orientations = NED_to_ENU(drone_orientations)\n",
    "\n",
    "drone_rotations = np.zeros((3,3,num_scans))\n",
    "for i in range(num_scans):\n",
    "    drone_rotations[:,:,i] = quat_to_R(drone_orientations[i])"
   ]
  },
  {
   "cell_type": "code",
   "execution_count": null,
   "metadata": {},
   "outputs": [],
   "source": [
    "# Extract scans\n",
    "num_scans = len(PC_data)\n",
    "scans = []\n",
    "avg_extraction_time = 0\n",
    "for i in range(num_scans):\n",
    "    start_time = time.time()\n",
    "    scans.append(pc_to_scan(PC_data[i]))\n",
    "    avg_extraction_time += time.time() - start_time\n",
    "avg_extraction_time /= num_scans\n",
    "print(avg_extraction_time)"
   ]
  },
  {
   "cell_type": "markdown",
   "metadata": {},
   "source": [
    "Generate map"
   ]
  },
  {
   "cell_type": "code",
   "execution_count": null,
   "metadata": {},
   "outputs": [],
   "source": [
    "# Initialize transformed scans\n",
    "scans_transformed = []\n",
    "for i in range(num_scans):\n",
    "    scans_transformed.append(deepcopy(scans[i]))\n",
    "    scans_transformed[i].transform(drone_rotations[:,:,i], drone_positions[i])"
   ]
  },
  {
   "cell_type": "code",
   "execution_count": null,
   "metadata": {},
   "outputs": [],
   "source": [
    "merged = scans_transformed[0]\n",
    "#scans_transformed[1:76] + \n",
    "for s in scans_transformed[1:76] + scans_transformed[77:-5]:\n",
    "    merged = merged.merge(s, dist_thresh=7.5)\n",
    "    merged.reduce_inside(p2p_dist_thresh=5)\n",
    "    merged.remove_small_planes(area_thresh=5.0)\n",
    "    merged.fuse_edges(vertex_merge_thresh=2.0)"
   ]
  },
  {
   "cell_type": "code",
   "execution_count": null,
   "metadata": {},
   "outputs": [],
   "source": [
    "from pympler import asizeof\n",
    "asizeof.asizeof(PC_data)"
   ]
  },
  {
   "cell_type": "code",
   "execution_count": null,
   "metadata": {},
   "outputs": [],
   "source": [
    "len(merged.planes)"
   ]
  },
  {
   "cell_type": "code",
   "execution_count": null,
   "metadata": {},
   "outputs": [],
   "source": [
    "asizeof.asizeof(merged.planes[0])"
   ]
  },
  {
   "cell_type": "code",
   "execution_count": null,
   "metadata": {},
   "outputs": [],
   "source": [
    "asizeof.asizeof(merged)"
   ]
  },
  {
   "cell_type": "code",
   "execution_count": null,
   "metadata": {},
   "outputs": [],
   "source": [
    "# Plot ground-truth trajectory\n",
    "gt_traj_trace = go.Scatter3d(x=drone_positions[:,0], y=drone_positions[:,1], z=drone_positions[:,2], \n",
    "    marker=dict(size=2, color='orange'), hovertext=np.arange(len(drone_positions)))\n",
    "fig = go.Figure(data=gt_traj_trace)\n",
    "fig.update_layout(width=1000, height=600, scene=dict(aspectmode='data'))\n",
    "fig.show()"
   ]
  },
  {
   "cell_type": "code",
   "execution_count": null,
   "metadata": {},
   "outputs": [],
   "source": [
    "# Plot merge\n",
    "camera = dict(\n",
    "    up=dict(x=0, y=0, z=1),\n",
    "    center=dict(x=0, y=0, z=0),\n",
    "    eye=dict(x=0, y=-1.75, z=1.75)\n",
    ")\n",
    "\n",
    "fig = go.Figure(data=merged.plot_trace(colors=['blue'])+[gt_traj_trace])\n",
    "fig.update_layout(width=1500, height=900, scene=dict(aspectmode='data', xaxis=dict(showticklabels=False, title=dict(text='')), \n",
    "    yaxis=dict(showticklabels=False, title=dict(text='')), zaxis=dict(showticklabels=False, title=dict(text=''))),\n",
    "    scene_camera=camera)\n",
    "fig.show()"
   ]
  },
  {
   "cell_type": "code",
   "execution_count": null,
   "metadata": {},
   "outputs": [],
   "source": [
    "# Plot individual scan\n",
    "i = 76\n",
    "fig = go.Figure(data=scans[i].plot_trace()+[pc_plot_trace(PC_data[i])])\n",
    "fig.update_layout(width=1500, height=900, scene=dict(aspectmode='data'))\n",
    "fig.show()"
   ]
  },
  {
   "cell_type": "markdown",
   "metadata": {},
   "source": [
    "Open3D Octree/Voxel Map"
   ]
  },
  {
   "cell_type": "code",
   "execution_count": null,
   "metadata": {},
   "outputs": [],
   "source": [
    "# Orient point clouds\n",
    "oriented_PCs = deepcopy(PC_data)\n",
    "for i in range(len(oriented_PCs)):\n",
    "    oriented_PCs[i] = (drone_rotations[:,:,i] @ oriented_PCs[i].T).T + drone_positions[i]"
   ]
  },
  {
   "cell_type": "code",
   "execution_count": null,
   "metadata": {},
   "outputs": [],
   "source": [
    "map_points = np.vstack(oriented_PCs)"
   ]
  },
  {
   "cell_type": "code",
   "execution_count": null,
   "metadata": {},
   "outputs": [],
   "source": [
    "import open3d as o3d\n",
    "\n",
    "pcd = o3d.geometry.PointCloud()\n",
    "pcd.points = o3d.utility.Vector3dVector(map_points)"
   ]
  },
  {
   "cell_type": "code",
   "execution_count": null,
   "metadata": {},
   "outputs": [],
   "source": [
    "voxel_grid = o3d.geometry.VoxelGrid.create_from_point_cloud(pcd,\n",
    "                                                            voxel_size=0.05)\n",
    "o3d.visualization.draw_geometries([voxel_grid])"
   ]
  },
  {
   "cell_type": "code",
   "execution_count": null,
   "metadata": {},
   "outputs": [],
   "source": [
    "voxel_grid"
   ]
  },
  {
   "cell_type": "code",
   "execution_count": null,
   "metadata": {},
   "outputs": [],
   "source": [
    "asizeof.asizeof(voxel_grid)"
   ]
  },
  {
   "cell_type": "markdown",
   "metadata": {},
   "source": [
    "Trajectory"
   ]
  },
  {
   "cell_type": "code",
   "execution_count": null,
   "metadata": {},
   "outputs": [],
   "source": [
    "from planeslam.registration import robust_GN_register\n",
    "\n",
    "R_abs = quat_to_R(drone_orientations[0])\n",
    "t_abs = drone_positions[0,:].copy()\n",
    "traj_est = np.zeros((num_scans, 3))\n",
    "traj_est[0] = t_abs\n",
    "traj_Rs = np.zeros((3, 3, num_scans))\n",
    "traj_Rs[:,:,0] = R_abs\n",
    "avg_runtime = 0\n",
    "\n",
    "for i in range(1, num_scans):\n",
    "    print(\"i = \", i)\n",
    "    R_hat, t_hat = robust_GN_register(scans[i], scans[i-1])\n",
    "    t_abs += (R_abs @ t_hat).flatten()\n",
    "    R_abs = R_hat @ R_abs\n",
    "    avg_runtime += time.time() - start_time\n",
    "    traj_est[i] = t_abs\n",
    "    traj_Rs[:,:,i] = R_abs\n",
    "\n",
    "avg_runtime /= len(scans)-1\n",
    "print(\"average registration time: \", avg_runtime)"
   ]
  },
  {
   "cell_type": "code",
   "execution_count": null,
   "metadata": {},
   "outputs": [],
   "source": [
    "est_traj_trace = go.Scatter3d(x=traj_est[:,0], y=traj_est[:,1], z=traj_est[:,2], \n",
    "    marker=dict(size=5, color='orange'), name=\"Estimated\")\n",
    "gt_traj_trace = go.Scatter3d(x=drone_positions[:,0], y=drone_positions[:,1], z=drone_positions[:,2], \n",
    "    marker=dict(size=5, color='red'), name=\"Ground-truth\")"
   ]
  },
  {
   "cell_type": "code",
   "execution_count": null,
   "metadata": {},
   "outputs": [],
   "source": [
    "from scipy.spatial.transform import Rotation as R\n",
    "\n",
    "r = R.from_euler('y', -0.4, degrees=True)\n",
    "merged.transform(r.as_matrix(), np.zeros(3))"
   ]
  },
  {
   "cell_type": "code",
   "execution_count": null,
   "metadata": {},
   "outputs": [],
   "source": [
    "# Plot merge\n",
    "camera = dict(\n",
    "    up=dict(x=0, y=0, z=1),\n",
    "    center=dict(x=0, y=0, z=0),\n",
    "    eye=dict(x=0, y=-2.0, z=1.0)\n",
    ")\n",
    "\n",
    "fig = go.Figure(data=merged.plot_trace(colors=['blue'], showlegend=False)+[gt_traj_trace, est_traj_trace])\n",
    "fig.update_layout(width=4000, height=2500, scene=dict(aspectmode='data', xaxis=dict(visible=False), yaxis=dict(visible=False), zaxis=dict(visible=False)),\n",
    "    scene_camera=camera, legend=dict(font=dict(size=60), yanchor=\"top\", y=0.7, xanchor=\"left\", x=0.05))\n",
    "fig.update_layout(legend= {'itemsizing': 'constant'})\n",
    "fig.show()"
   ]
  },
  {
   "cell_type": "code",
   "execution_count": null,
   "metadata": {},
   "outputs": [],
   "source": [
    "import os\n",
    "\n",
    "if not os.path.exists(\"images\"):\n",
    "    os.mkdir(\"images\")"
   ]
  },
  {
   "cell_type": "code",
   "execution_count": null,
   "metadata": {},
   "outputs": [],
   "source": [
    "fig.write_image(\"images/fig1.png\", width=4000, height=2500)"
   ]
  },
  {
   "cell_type": "code",
   "execution_count": null,
   "metadata": {},
   "outputs": [],
   "source": []
  }
 ],
 "metadata": {
  "kernelspec": {
   "display_name": "Python 3.9.12 ('planeslam')",
   "language": "python",
   "name": "python3"
  },
  "language_info": {
   "codemirror_mode": {
    "name": "ipython",
    "version": 3
   },
   "file_extension": ".py",
   "mimetype": "text/x-python",
   "name": "python",
   "nbconvert_exporter": "python",
   "pygments_lexer": "ipython3",
   "version": "3.9.12"
  },
  "orig_nbformat": 4,
  "vscode": {
   "interpreter": {
    "hash": "b585e665bce1ccbefa5eda0ece21e432dc86e0e8165acc8779a1295e00a6ba38"
   }
  }
 },
 "nbformat": 4,
 "nbformat_minor": 2
}
