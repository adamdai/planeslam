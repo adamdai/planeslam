{
 "cells": [
  {
   "cell_type": "markdown",
   "metadata": {},
   "source": [
    "# Test on Velodyne data"
   ]
  },
  {
   "cell_type": "code",
   "execution_count": null,
   "metadata": {},
   "outputs": [],
   "source": [
    "%matplotlib widget\n",
    "import numpy as np\n",
    "import os\n",
    "import time\n",
    "import plotly.graph_objects as go\n",
    "\n",
    "from planeslam.general import downsample, adaptive_downsample\n",
    "from planeslam.mesh import LidarMesh\n",
    "from planeslam.scan import Scan, velo_pc_to_scan\n",
    "from planeslam.clustering import cluster_mesh_graph_search, plot_clusters\n",
    "from planeslam.extraction import scan_from_clusters, planes_from_clusters\n",
    "from planeslam.general import pc_plot_trace\n",
    "from planeslam.geometry.util import quat_to_R\n",
    "from planeslam.point_cloud import velo_preprocess\n",
    "\n",
    "%load_ext autoreload\n",
    "%autoreload 2"
   ]
  },
  {
   "cell_type": "code",
   "execution_count": null,
   "metadata": {},
   "outputs": [],
   "source": [
    "np.set_printoptions(suppress=True)"
   ]
  },
  {
   "cell_type": "markdown",
   "metadata": {},
   "source": [
    "Flight room"
   ]
  },
  {
   "cell_type": "code",
   "execution_count": null,
   "metadata": {},
   "outputs": [],
   "source": [
    "# Read in point cloud data\n",
    "pcpath = os.path.join(os.getcwd(),'..', '..', 'data', 'velodyne', '8_20_2022', 'flightroom', 'run_7', 'pcs')\n",
    "PCs = []\n",
    "#len(os.listdir(pcpath))\n",
    "#select_idxs = np.arange(0, 1000, 2)\n",
    "select_idxs = np.arange(0, len(os.listdir(pcpath)), 5)\n",
    "for i in select_idxs:  \n",
    "    filename = os.path.join(pcpath, 'pc_'+str(i)+'.npy')\n",
    "    PC = np.load(filename)\n",
    "    PCs.append(PC)"
   ]
  },
  {
   "cell_type": "code",
   "execution_count": null,
   "metadata": {},
   "outputs": [],
   "source": [
    "# Read in pose data\n",
    "posepath = os.path.join(os.getcwd(),'..', '..', 'data', 'velodyne', '8_20_2022', 'flightroom', 'run_7', 'poses')\n",
    "poses = []\n",
    "for i in select_idxs:  \n",
    "    filename = os.path.join(posepath, 'pose_'+str(i)+'.npy')\n",
    "    pose = np.load(filename)\n",
    "    poses.append(pose)"
   ]
  },
  {
   "cell_type": "code",
   "execution_count": null,
   "metadata": {},
   "outputs": [],
   "source": [
    "idx = 13\n",
    "PC_orig = PCs[idx]\n",
    "pose = poses[idx]"
   ]
  },
  {
   "cell_type": "code",
   "execution_count": null,
   "metadata": {},
   "outputs": [],
   "source": [
    "# data = go.Scatter3d(x=PC_orig[:,0], y=PC_orig[:,1], z=PC_orig[:,2],\n",
    "#         mode='markers', marker=dict(size=2, color=np.arange(len(PC_orig))))\n",
    "# fig = go.Figure(data=data)\n",
    "# fig.update_layout(width=1500, height=900, scene=dict(aspectmode='data'))\n",
    "# fig.show()"
   ]
  },
  {
   "cell_type": "code",
   "execution_count": null,
   "metadata": {},
   "outputs": [],
   "source": [
    "# Pre-process \n",
    "PC = velo_preprocess(PC_orig, pose)\n",
    "# Downsample\n",
    "scan = velo_pc_to_scan(PC)\n",
    "scan.remove_small_planes(area_thresh=0.1)\n",
    "scan.reduce_inside(p2p_dist_thresh=0.1)"
   ]
  },
  {
   "cell_type": "code",
   "execution_count": null,
   "metadata": {},
   "outputs": [],
   "source": [
    "fig = go.Figure(data=[pc_plot_trace(PC)]+scan.plot_trace())\n",
    "fig.update_layout(width=1500, height=900, scene=dict(aspectmode='data'))\n",
    "fig.show()"
   ]
  },
  {
   "cell_type": "code",
   "execution_count": null,
   "metadata": {},
   "outputs": [],
   "source": [
    "# Pre-process \n",
    "PC = velo_preprocess(PC_orig, pose)\n",
    "# Downsample\n",
    "PC = adaptive_downsample(PC, factor=5)"
   ]
  },
  {
   "cell_type": "code",
   "execution_count": null,
   "metadata": {},
   "outputs": [],
   "source": [
    "fig = go.Figure(data=pc_plot_trace(PC))\n",
    "fig.update_layout(width=1500, height=900, scene=dict(aspectmode='data'))\n",
    "fig.show()"
   ]
  },
  {
   "cell_type": "code",
   "execution_count": null,
   "metadata": {},
   "outputs": [],
   "source": [
    "# Create the mesh\n",
    "mesh = LidarMesh(PC)\n",
    "mesh.prune(edge_len_lim=0.5)\n",
    "# start_time = time.time()\n",
    "# # Cluster the mesh with graph search\n",
    "# clusters, avg_normals = cluster_mesh_graph_search(mesh)\n",
    "# print(\"elapsed time: \", time.time() - start_time)"
   ]
  },
  {
   "cell_type": "code",
   "execution_count": null,
   "metadata": {},
   "outputs": [],
   "source": [
    "mesh.smooth_laplacian()"
   ]
  },
  {
   "cell_type": "code",
   "execution_count": null,
   "metadata": {},
   "outputs": [],
   "source": [
    "# Plot mesh\n",
    "fig = go.Figure(data=mesh.plot_trace()+[pc_plot_trace(PC)])\n",
    "fig.update_layout(width=1500, height=900, scene=dict(aspectmode='data'))\n",
    "fig.show()"
   ]
  },
  {
   "cell_type": "code",
   "execution_count": null,
   "metadata": {},
   "outputs": [],
   "source": [
    "clusters, avg_normals = cluster_mesh_graph_search(mesh, min_cluster_size=50)"
   ]
  },
  {
   "cell_type": "code",
   "execution_count": null,
   "metadata": {},
   "outputs": [],
   "source": [
    "# Plot clusters\n",
    "plot_clusters(PC, mesh, clusters)"
   ]
  },
  {
   "cell_type": "code",
   "execution_count": null,
   "metadata": {},
   "outputs": [],
   "source": [
    "planes, basis = planes_from_clusters(mesh, clusters, avg_normals)\n",
    "scan = Scan(planes, basis)"
   ]
  },
  {
   "cell_type": "code",
   "execution_count": null,
   "metadata": {},
   "outputs": [],
   "source": [
    "fig = go.Figure(data=mesh.plot_trace()+scan.plot_trace())\n",
    "fig.update_layout(width=1500, height=900, scene=dict(aspectmode='data'))\n",
    "fig.show()"
   ]
  },
  {
   "cell_type": "code",
   "execution_count": null,
   "metadata": {},
   "outputs": [],
   "source": [
    "from planeslam.clustering import mesh_cluster_pts, sort_mesh_clusters\n",
    "\n",
    "clusters, avg_normals = sort_mesh_clusters(clusters, avg_normals)\n",
    "i = 0\n",
    "n = avg_normals[i][:,None]\n",
    "c = clusters[i]\n",
    "cluster_pts = mesh_cluster_pts(mesh, c)  # Extract points from cluster"
   ]
  },
  {
   "cell_type": "code",
   "execution_count": null,
   "metadata": {},
   "outputs": [],
   "source": [
    "normals_arr = np.asarray(avg_normals)\n",
    "normal_dirs = np.argmax(np.abs(normals_arr), axis=1)  # normal directions (x,y,z)"
   ]
  },
  {
   "cell_type": "code",
   "execution_count": null,
   "metadata": {},
   "outputs": [],
   "source": [
    "ground_clusters = [clusters[i] for i in range(len(clusters)) if (normal_dirs==2)[i]]"
   ]
  },
  {
   "cell_type": "code",
   "execution_count": null,
   "metadata": {},
   "outputs": [],
   "source": [
    "from planeslam.general import normalize\n",
    "\n",
    "\n",
    "ground_normal = normalize(np.mean(normals_arr[normal_dirs==2], axis=0))"
   ]
  },
  {
   "cell_type": "code",
   "execution_count": null,
   "metadata": {},
   "outputs": [],
   "source": [
    "ground_cluster = [i for c in ground_clusters for i in c]"
   ]
  },
  {
   "cell_type": "code",
   "execution_count": null,
   "metadata": {},
   "outputs": [],
   "source": [
    "wall_clusters = [clusters[i] for i in range(len(clusters)) if (normal_dirs!=2)[i]]"
   ]
  },
  {
   "cell_type": "code",
   "execution_count": null,
   "metadata": {},
   "outputs": [],
   "source": [
    "wall_normals = list(normals_arr[normal_dirs!=2])"
   ]
  },
  {
   "cell_type": "code",
   "execution_count": null,
   "metadata": {},
   "outputs": [],
   "source": [
    "clusters = [ground_cluster] + wall_clusters"
   ]
  },
  {
   "cell_type": "code",
   "execution_count": null,
   "metadata": {},
   "outputs": [],
   "source": [
    "avg_normals = [ground_normal] + wall_normals"
   ]
  },
  {
   "cell_type": "code",
   "execution_count": null,
   "metadata": {},
   "outputs": [],
   "source": [
    "len(clusters)"
   ]
  },
  {
   "cell_type": "code",
   "execution_count": null,
   "metadata": {},
   "outputs": [],
   "source": [
    "a = np.array([[0,1],[1,2],[2,7]])\n",
    "b = np.array([0,1,2,3])\n",
    "np.all(np.isin(a,b), axis=1)"
   ]
  },
  {
   "cell_type": "code",
   "execution_count": null,
   "metadata": {},
   "outputs": [],
   "source": [
    "idxs[cts!=1]"
   ]
  },
  {
   "cell_type": "code",
   "execution_count": null,
   "metadata": {},
   "outputs": [],
   "source": [
    "# Plot the points \n",
    "fig = go.Figure(data=pc_plot_trace(cluster_pts))\n",
    "fig.update_layout(width=1000, height=600, scene=dict(aspectmode='data'))\n",
    "fig.show()"
   ]
  },
  {
   "cell_type": "code",
   "execution_count": null,
   "metadata": {},
   "outputs": [],
   "source": [
    "# Find ground plane - largest cluster with largest normal component in z\n",
    "# (assumes pitch/roll is < 45 degrees)\n",
    "normals_arr = np.asarray(avg_normals)\n",
    "normal_dirs = np.argmax(np.abs(normals_arr), axis=1)  # normal directions (x,y,z)\n",
    "ground_normal = normals_arr[normal_dirs==2][0]\n",
    "\n",
    "# Group normals into x and y\n",
    "x_normals = normals_arr[normal_dirs==0]\n",
    "y_normals = normals_arr[normal_dirs==1]\n",
    "\n",
    "# Find \"best fit\" x and y basis vectors"
   ]
  },
  {
   "cell_type": "code",
   "execution_count": null,
   "metadata": {},
   "outputs": [],
   "source": [
    "np.mean(x_normals, axis=1)"
   ]
  },
  {
   "cell_type": "code",
   "execution_count": null,
   "metadata": {},
   "outputs": [],
   "source": [
    "np.mean(np.sign(x_normals[:,0])[:,None] * x_normals, axis=0)"
   ]
  },
  {
   "cell_type": "code",
   "execution_count": null,
   "metadata": {},
   "outputs": [],
   "source": []
  }
 ],
 "metadata": {
  "kernelspec": {
   "display_name": "Python 3.7.13 ('planeslam')",
   "language": "python",
   "name": "python3"
  },
  "language_info": {
   "codemirror_mode": {
    "name": "ipython",
    "version": 3
   },
   "file_extension": ".py",
   "mimetype": "text/x-python",
   "name": "python",
   "nbconvert_exporter": "python",
   "pygments_lexer": "ipython3",
   "version": "3.7.13 (default, Mar 28 2022, 08:03:21) [MSC v.1916 64 bit (AMD64)]"
  },
  "orig_nbformat": 4,
  "vscode": {
   "interpreter": {
    "hash": "cb468a8bbd71ee67ef9f48802575221c6bc0da5f02cb6cb243ccdc58c1f5deea"
   }
  }
 },
 "nbformat": 4,
 "nbformat_minor": 2
}
